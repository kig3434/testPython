{
 "cells": [
  {
   "cell_type": "markdown",
   "metadata": {},
   "source": [
    "# Hawks\n",
    "## Kevin Greenberg\n",
    " The Hawks dataset consists of three types of hawks (Red-tailed, Sharp-skinned, and Cooper's), with various features for each hawk. The dataset has 908 hawks with 20 columns. A supervised _______ was conducted to classify the hawks.\n",
    " \n",
    " Data was preprocessed _______-\n",
    " \n",
    " Then split into training and test data\n",
    " \n",
    " Then ran\n",
    " \n",
    " Visualized\n",
    " \n",
    " Explained\n",
    " \n",
    " https://pbpython.com/categorical-encoding.html"
   ]
  },
  {
   "cell_type": "code",
   "execution_count": 1,
   "metadata": {},
   "outputs": [
    {
     "data": {
      "text/html": [
       "<div>\n",
       "<style scoped>\n",
       "    .dataframe tbody tr th:only-of-type {\n",
       "        vertical-align: middle;\n",
       "    }\n",
       "\n",
       "    .dataframe tbody tr th {\n",
       "        vertical-align: top;\n",
       "    }\n",
       "\n",
       "    .dataframe thead th {\n",
       "        text-align: right;\n",
       "    }\n",
       "</style>\n",
       "<table border=\"1\" class=\"dataframe\">\n",
       "  <thead>\n",
       "    <tr style=\"text-align: right;\">\n",
       "      <th></th>\n",
       "      <th>Count</th>\n",
       "      <th>Month</th>\n",
       "      <th>Day</th>\n",
       "      <th>Year</th>\n",
       "      <th>Capture Time</th>\n",
       "      <th>Release Time</th>\n",
       "      <th>Band Number</th>\n",
       "      <th>Species</th>\n",
       "      <th>Age</th>\n",
       "      <th>Sex</th>\n",
       "      <th>Wing</th>\n",
       "      <th>Weight</th>\n",
       "      <th>Culmen</th>\n",
       "      <th>Hallux</th>\n",
       "      <th>Tail</th>\n",
       "      <th>Standard Tail</th>\n",
       "      <th>Tarsus</th>\n",
       "      <th>WingPitFat</th>\n",
       "      <th>KeelFat</th>\n",
       "      <th>Crop</th>\n",
       "    </tr>\n",
       "  </thead>\n",
       "  <tbody>\n",
       "    <tr>\n",
       "      <td>903</td>\n",
       "      <td>904</td>\n",
       "      <td>11</td>\n",
       "      <td>18</td>\n",
       "      <td>2003</td>\n",
       "      <td>14:44</td>\n",
       "      <td></td>\n",
       "      <td>1177-04777</td>\n",
       "      <td>RT</td>\n",
       "      <td>I</td>\n",
       "      <td>NaN</td>\n",
       "      <td>380.0</td>\n",
       "      <td>1525.0</td>\n",
       "      <td>26.0</td>\n",
       "      <td>27.6</td>\n",
       "      <td>224</td>\n",
       "      <td>227.0</td>\n",
       "      <td>NaN</td>\n",
       "      <td>NaN</td>\n",
       "      <td>3.0</td>\n",
       "      <td>0.0</td>\n",
       "    </tr>\n",
       "    <tr>\n",
       "      <td>904</td>\n",
       "      <td>905</td>\n",
       "      <td>11</td>\n",
       "      <td>19</td>\n",
       "      <td>2003</td>\n",
       "      <td>10:18</td>\n",
       "      <td></td>\n",
       "      <td>803-05985</td>\n",
       "      <td>SS</td>\n",
       "      <td>I</td>\n",
       "      <td>F</td>\n",
       "      <td>190.0</td>\n",
       "      <td>175.0</td>\n",
       "      <td>12.7</td>\n",
       "      <td>15.4</td>\n",
       "      <td>150</td>\n",
       "      <td>153.0</td>\n",
       "      <td>NaN</td>\n",
       "      <td>NaN</td>\n",
       "      <td>4.0</td>\n",
       "      <td>0.0</td>\n",
       "    </tr>\n",
       "    <tr>\n",
       "      <td>905</td>\n",
       "      <td>906</td>\n",
       "      <td>11</td>\n",
       "      <td>19</td>\n",
       "      <td>2003</td>\n",
       "      <td>12:02</td>\n",
       "      <td></td>\n",
       "      <td>1807-53145</td>\n",
       "      <td>RT</td>\n",
       "      <td>I</td>\n",
       "      <td>NaN</td>\n",
       "      <td>360.0</td>\n",
       "      <td>790.0</td>\n",
       "      <td>21.9</td>\n",
       "      <td>27.6</td>\n",
       "      <td>211</td>\n",
       "      <td>215.0</td>\n",
       "      <td>NaN</td>\n",
       "      <td>NaN</td>\n",
       "      <td>2.0</td>\n",
       "      <td>0.0</td>\n",
       "    </tr>\n",
       "    <tr>\n",
       "      <td>906</td>\n",
       "      <td>907</td>\n",
       "      <td>11</td>\n",
       "      <td>20</td>\n",
       "      <td>2003</td>\n",
       "      <td>9:56</td>\n",
       "      <td></td>\n",
       "      <td>1177-04778</td>\n",
       "      <td>RT</td>\n",
       "      <td>I</td>\n",
       "      <td>NaN</td>\n",
       "      <td>369.0</td>\n",
       "      <td>860.0</td>\n",
       "      <td>25.2</td>\n",
       "      <td>28.0</td>\n",
       "      <td>207</td>\n",
       "      <td>210.0</td>\n",
       "      <td>NaN</td>\n",
       "      <td>NaN</td>\n",
       "      <td>2.0</td>\n",
       "      <td>0.0</td>\n",
       "    </tr>\n",
       "    <tr>\n",
       "      <td>907</td>\n",
       "      <td>908</td>\n",
       "      <td>11</td>\n",
       "      <td>20</td>\n",
       "      <td>2003</td>\n",
       "      <td>13:30</td>\n",
       "      <td></td>\n",
       "      <td>1207-53145</td>\n",
       "      <td>RT</td>\n",
       "      <td>A</td>\n",
       "      <td>NaN</td>\n",
       "      <td>199.0</td>\n",
       "      <td>1290.0</td>\n",
       "      <td>28.7</td>\n",
       "      <td>32.1</td>\n",
       "      <td>222</td>\n",
       "      <td>226.0</td>\n",
       "      <td>NaN</td>\n",
       "      <td>NaN</td>\n",
       "      <td>1.0</td>\n",
       "      <td>0.0</td>\n",
       "    </tr>\n",
       "  </tbody>\n",
       "</table>\n",
       "</div>"
      ],
      "text/plain": [
       "     Count  Month  Day  Year Capture Time Release Time Band Number Species  \\\n",
       "903    904     11   18  2003        14:44               1177-04777      RT   \n",
       "904    905     11   19  2003        10:18                803-05985      SS   \n",
       "905    906     11   19  2003        12:02               1807-53145      RT   \n",
       "906    907     11   20  2003         9:56               1177-04778      RT   \n",
       "907    908     11   20  2003        13:30               1207-53145      RT   \n",
       "\n",
       "    Age  Sex   Wing  Weight  Culmen  Hallux  Tail  Standard Tail  Tarsus  \\\n",
       "903   I  NaN  380.0  1525.0    26.0    27.6   224          227.0     NaN   \n",
       "904   I    F  190.0   175.0    12.7    15.4   150          153.0     NaN   \n",
       "905   I  NaN  360.0   790.0    21.9    27.6   211          215.0     NaN   \n",
       "906   I  NaN  369.0   860.0    25.2    28.0   207          210.0     NaN   \n",
       "907   A  NaN  199.0  1290.0    28.7    32.1   222          226.0     NaN   \n",
       "\n",
       "     WingPitFat  KeelFat  Crop  \n",
       "903         NaN      3.0   0.0  \n",
       "904         NaN      4.0   0.0  \n",
       "905         NaN      2.0   0.0  \n",
       "906         NaN      2.0   0.0  \n",
       "907         NaN      1.0   0.0  "
      ]
     },
     "execution_count": 1,
     "metadata": {},
     "output_type": "execute_result"
    }
   ],
   "source": [
    "# Load the data\n",
    "import pandas as pd\n",
    "\n",
    "df_hawks = pd.read_csv('/Users/kevingreenberg/Desktop/ML/data/hawks.csv', na_values=\"\")\n",
    "df_hawks.columns=['Count','Month', 'Day', 'Year','Capture Time', 'Release Time', 'Band Number','Species', 'Age', 'Sex', 'Wing','Weight', 'Culmen', 'Hallux', 'Tail', 'Standard Tail', 'Tarsus', 'WingPitFat', 'KeelFat', 'Crop']\n",
    "df_hawks.tail()"
   ]
  },
  {
   "cell_type": "code",
   "execution_count": 2,
   "metadata": {},
   "outputs": [
    {
     "name": "stdout",
     "output_type": "stream",
     "text": [
      "<class 'pandas.core.frame.DataFrame'>\n",
      "RangeIndex: 908 entries, 0 to 907\n",
      "Data columns (total 20 columns):\n",
      "Count            908 non-null int64\n",
      "Month            908 non-null int64\n",
      "Day              908 non-null int64\n",
      "Year             908 non-null int64\n",
      "Capture Time     908 non-null object\n",
      "Release Time     907 non-null object\n",
      "Band Number      908 non-null object\n",
      "Species          908 non-null object\n",
      "Age              908 non-null object\n",
      "Sex              332 non-null object\n",
      "Wing             907 non-null float64\n",
      "Weight           898 non-null float64\n",
      "Culmen           901 non-null float64\n",
      "Hallux           902 non-null float64\n",
      "Tail             908 non-null int64\n",
      "Standard Tail    571 non-null float64\n",
      "Tarsus           75 non-null float64\n",
      "WingPitFat       77 non-null float64\n",
      "KeelFat          567 non-null float64\n",
      "Crop             565 non-null float64\n",
      "dtypes: float64(9), int64(5), object(6)\n",
      "memory usage: 142.0+ KB\n"
     ]
    }
   ],
   "source": [
    "df_hawks.info()\n",
    "# There is missing data and our target feature(species) is in the wrong class."
   ]
  },
  {
   "cell_type": "code",
   "execution_count": 3,
   "metadata": {},
   "outputs": [
    {
     "data": {
      "text/plain": [
       "RT    577\n",
       "SS    261\n",
       "CH     70\n",
       "Name: Species, dtype: int64"
      ]
     },
     "execution_count": 3,
     "metadata": {},
     "output_type": "execute_result"
    }
   ],
   "source": [
    "df_hawks[\"Species\"].value_counts()\n",
    "# we also have unequal numbers of each species"
   ]
  },
  {
   "cell_type": "code",
   "execution_count": 4,
   "metadata": {},
   "outputs": [
    {
     "data": {
      "text/plain": [
       "0"
      ]
     },
     "execution_count": 4,
     "metadata": {},
     "output_type": "execute_result"
    }
   ],
   "source": [
    "# count NAN in columns of interest\n",
    "df_hawks['Species'].isnull().sum()\n"
   ]
  },
  {
   "cell_type": "code",
   "execution_count": 5,
   "metadata": {},
   "outputs": [
    {
     "data": {
      "text/html": [
       "<div>\n",
       "<style scoped>\n",
       "    .dataframe tbody tr th:only-of-type {\n",
       "        vertical-align: middle;\n",
       "    }\n",
       "\n",
       "    .dataframe tbody tr th {\n",
       "        vertical-align: top;\n",
       "    }\n",
       "\n",
       "    .dataframe thead th {\n",
       "        text-align: right;\n",
       "    }\n",
       "</style>\n",
       "<table border=\"1\" class=\"dataframe\">\n",
       "  <thead>\n",
       "    <tr style=\"text-align: right;\">\n",
       "      <th></th>\n",
       "      <th>Species</th>\n",
       "      <th>Species_code</th>\n",
       "    </tr>\n",
       "  </thead>\n",
       "  <tbody>\n",
       "    <tr>\n",
       "      <td>0</td>\n",
       "      <td>RT</td>\n",
       "      <td>1</td>\n",
       "    </tr>\n",
       "    <tr>\n",
       "      <td>1</td>\n",
       "      <td>RT</td>\n",
       "      <td>1</td>\n",
       "    </tr>\n",
       "    <tr>\n",
       "      <td>2</td>\n",
       "      <td>RT</td>\n",
       "      <td>1</td>\n",
       "    </tr>\n",
       "    <tr>\n",
       "      <td>3</td>\n",
       "      <td>CH</td>\n",
       "      <td>0</td>\n",
       "    </tr>\n",
       "    <tr>\n",
       "      <td>4</td>\n",
       "      <td>SS</td>\n",
       "      <td>2</td>\n",
       "    </tr>\n",
       "  </tbody>\n",
       "</table>\n",
       "</div>"
      ],
      "text/plain": [
       "  Species  Species_code\n",
       "0      RT             1\n",
       "1      RT             1\n",
       "2      RT             1\n",
       "3      CH             0\n",
       "4      SS             2"
      ]
     },
     "execution_count": 5,
     "metadata": {},
     "output_type": "execute_result"
    }
   ],
   "source": [
    "# the first method of encoding cateogrical data\n",
    "from sklearn.preprocessing import LabelEncoder\n",
    "\n",
    "lb_make = LabelEncoder()\n",
    "df_hawks[\"Species_code\"] = lb_make.fit_transform(df_hawks[\"Species\"])\n",
    "df_hawks[[\"Species\", \"Species_code\"]].head()"
   ]
  },
  {
   "cell_type": "code",
   "execution_count": 6,
   "metadata": {},
   "outputs": [
    {
     "data": {
      "text/plain": [
       "Count               int64\n",
       "Month               int64\n",
       "Day                 int64\n",
       "Year                int64\n",
       "Capture Time       object\n",
       "Release Time       object\n",
       "Band Number        object\n",
       "Species          category\n",
       "Age                object\n",
       "Sex                object\n",
       "Wing              float64\n",
       "Weight            float64\n",
       "Culmen            float64\n",
       "Hallux            float64\n",
       "Tail                int64\n",
       "Standard Tail     float64\n",
       "Tarsus            float64\n",
       "WingPitFat        float64\n",
       "KeelFat           float64\n",
       "Crop              float64\n",
       "Species_code        int64\n",
       "dtype: object"
      ]
     },
     "execution_count": 6,
     "metadata": {},
     "output_type": "execute_result"
    }
   ],
   "source": [
    "#the second method encoding categorical data\n",
    "df_hawks[\"Species\"] = df_hawks[\"Species\"].astype('category')\n",
    "\n",
    "df_hawks.dtypes"
   ]
  },
  {
   "cell_type": "markdown",
   "metadata": {},
   "source": [
    "# Mean imputation"
   ]
  },
  {
   "cell_type": "code",
   "execution_count": 7,
   "metadata": {},
   "outputs": [
    {
     "data": {
      "text/html": [
       "<div>\n",
       "<style scoped>\n",
       "    .dataframe tbody tr th:only-of-type {\n",
       "        vertical-align: middle;\n",
       "    }\n",
       "\n",
       "    .dataframe tbody tr th {\n",
       "        vertical-align: top;\n",
       "    }\n",
       "\n",
       "    .dataframe thead th {\n",
       "        text-align: right;\n",
       "    }\n",
       "</style>\n",
       "<table border=\"1\" class=\"dataframe\">\n",
       "  <thead>\n",
       "    <tr style=\"text-align: right;\">\n",
       "      <th></th>\n",
       "      <th>Count</th>\n",
       "      <th>Month</th>\n",
       "      <th>Day</th>\n",
       "      <th>Year</th>\n",
       "      <th>Capture Time</th>\n",
       "      <th>Release Time</th>\n",
       "      <th>Band Number</th>\n",
       "      <th>Species</th>\n",
       "      <th>Age</th>\n",
       "      <th>Sex</th>\n",
       "      <th>...</th>\n",
       "      <th>Weight</th>\n",
       "      <th>Culmen</th>\n",
       "      <th>Hallux</th>\n",
       "      <th>Tail</th>\n",
       "      <th>Standard Tail</th>\n",
       "      <th>Tarsus</th>\n",
       "      <th>WingPitFat</th>\n",
       "      <th>KeelFat</th>\n",
       "      <th>Crop</th>\n",
       "      <th>Species_code</th>\n",
       "    </tr>\n",
       "  </thead>\n",
       "  <tbody>\n",
       "    <tr>\n",
       "      <td>0</td>\n",
       "      <td>1</td>\n",
       "      <td>9</td>\n",
       "      <td>19</td>\n",
       "      <td>1992</td>\n",
       "      <td>13:30</td>\n",
       "      <td>NaN</td>\n",
       "      <td>877-76317</td>\n",
       "      <td>RT</td>\n",
       "      <td>I</td>\n",
       "      <td>NaN</td>\n",
       "      <td>...</td>\n",
       "      <td>920.0</td>\n",
       "      <td>25.700000</td>\n",
       "      <td>30.100000</td>\n",
       "      <td>219</td>\n",
       "      <td>199.182137</td>\n",
       "      <td>71.950667</td>\n",
       "      <td>0.792208</td>\n",
       "      <td>2.184303</td>\n",
       "      <td>0.23454</td>\n",
       "      <td>1</td>\n",
       "    </tr>\n",
       "    <tr>\n",
       "      <td>1</td>\n",
       "      <td>2</td>\n",
       "      <td>9</td>\n",
       "      <td>22</td>\n",
       "      <td>1992</td>\n",
       "      <td>10:30</td>\n",
       "      <td></td>\n",
       "      <td>877-76318</td>\n",
       "      <td>RT</td>\n",
       "      <td>I</td>\n",
       "      <td>NaN</td>\n",
       "      <td>...</td>\n",
       "      <td>930.0</td>\n",
       "      <td>21.801498</td>\n",
       "      <td>26.410865</td>\n",
       "      <td>221</td>\n",
       "      <td>199.182137</td>\n",
       "      <td>71.950667</td>\n",
       "      <td>0.792208</td>\n",
       "      <td>2.184303</td>\n",
       "      <td>0.23454</td>\n",
       "      <td>1</td>\n",
       "    </tr>\n",
       "    <tr>\n",
       "      <td>2</td>\n",
       "      <td>3</td>\n",
       "      <td>9</td>\n",
       "      <td>23</td>\n",
       "      <td>1992</td>\n",
       "      <td>12:45</td>\n",
       "      <td></td>\n",
       "      <td>877-76319</td>\n",
       "      <td>RT</td>\n",
       "      <td>I</td>\n",
       "      <td>NaN</td>\n",
       "      <td>...</td>\n",
       "      <td>990.0</td>\n",
       "      <td>26.700000</td>\n",
       "      <td>31.300000</td>\n",
       "      <td>235</td>\n",
       "      <td>199.182137</td>\n",
       "      <td>71.950667</td>\n",
       "      <td>0.792208</td>\n",
       "      <td>2.184303</td>\n",
       "      <td>0.23454</td>\n",
       "      <td>1</td>\n",
       "    </tr>\n",
       "    <tr>\n",
       "      <td>3</td>\n",
       "      <td>4</td>\n",
       "      <td>9</td>\n",
       "      <td>23</td>\n",
       "      <td>1992</td>\n",
       "      <td>10:50</td>\n",
       "      <td></td>\n",
       "      <td>745-49508</td>\n",
       "      <td>CH</td>\n",
       "      <td>I</td>\n",
       "      <td>F</td>\n",
       "      <td>...</td>\n",
       "      <td>470.0</td>\n",
       "      <td>18.700000</td>\n",
       "      <td>23.500000</td>\n",
       "      <td>220</td>\n",
       "      <td>199.182137</td>\n",
       "      <td>71.950667</td>\n",
       "      <td>0.792208</td>\n",
       "      <td>2.184303</td>\n",
       "      <td>0.23454</td>\n",
       "      <td>0</td>\n",
       "    </tr>\n",
       "    <tr>\n",
       "      <td>4</td>\n",
       "      <td>5</td>\n",
       "      <td>9</td>\n",
       "      <td>27</td>\n",
       "      <td>1992</td>\n",
       "      <td>11:15</td>\n",
       "      <td></td>\n",
       "      <td>1253-98801</td>\n",
       "      <td>SS</td>\n",
       "      <td>I</td>\n",
       "      <td>F</td>\n",
       "      <td>...</td>\n",
       "      <td>170.0</td>\n",
       "      <td>12.500000</td>\n",
       "      <td>14.300000</td>\n",
       "      <td>157</td>\n",
       "      <td>199.182137</td>\n",
       "      <td>71.950667</td>\n",
       "      <td>0.792208</td>\n",
       "      <td>2.184303</td>\n",
       "      <td>0.23454</td>\n",
       "      <td>2</td>\n",
       "    </tr>\n",
       "    <tr>\n",
       "      <td>...</td>\n",
       "      <td>...</td>\n",
       "      <td>...</td>\n",
       "      <td>...</td>\n",
       "      <td>...</td>\n",
       "      <td>...</td>\n",
       "      <td>...</td>\n",
       "      <td>...</td>\n",
       "      <td>...</td>\n",
       "      <td>...</td>\n",
       "      <td>...</td>\n",
       "      <td>...</td>\n",
       "      <td>...</td>\n",
       "      <td>...</td>\n",
       "      <td>...</td>\n",
       "      <td>...</td>\n",
       "      <td>...</td>\n",
       "      <td>...</td>\n",
       "      <td>...</td>\n",
       "      <td>...</td>\n",
       "      <td>...</td>\n",
       "      <td>...</td>\n",
       "    </tr>\n",
       "    <tr>\n",
       "      <td>903</td>\n",
       "      <td>904</td>\n",
       "      <td>11</td>\n",
       "      <td>18</td>\n",
       "      <td>2003</td>\n",
       "      <td>14:44</td>\n",
       "      <td></td>\n",
       "      <td>1177-04777</td>\n",
       "      <td>RT</td>\n",
       "      <td>I</td>\n",
       "      <td>NaN</td>\n",
       "      <td>...</td>\n",
       "      <td>1525.0</td>\n",
       "      <td>26.000000</td>\n",
       "      <td>27.600000</td>\n",
       "      <td>224</td>\n",
       "      <td>227.000000</td>\n",
       "      <td>71.950667</td>\n",
       "      <td>0.792208</td>\n",
       "      <td>3.000000</td>\n",
       "      <td>0.00000</td>\n",
       "      <td>1</td>\n",
       "    </tr>\n",
       "    <tr>\n",
       "      <td>904</td>\n",
       "      <td>905</td>\n",
       "      <td>11</td>\n",
       "      <td>19</td>\n",
       "      <td>2003</td>\n",
       "      <td>10:18</td>\n",
       "      <td></td>\n",
       "      <td>803-05985</td>\n",
       "      <td>SS</td>\n",
       "      <td>I</td>\n",
       "      <td>F</td>\n",
       "      <td>...</td>\n",
       "      <td>175.0</td>\n",
       "      <td>12.700000</td>\n",
       "      <td>15.400000</td>\n",
       "      <td>150</td>\n",
       "      <td>153.000000</td>\n",
       "      <td>71.950667</td>\n",
       "      <td>0.792208</td>\n",
       "      <td>4.000000</td>\n",
       "      <td>0.00000</td>\n",
       "      <td>2</td>\n",
       "    </tr>\n",
       "    <tr>\n",
       "      <td>905</td>\n",
       "      <td>906</td>\n",
       "      <td>11</td>\n",
       "      <td>19</td>\n",
       "      <td>2003</td>\n",
       "      <td>12:02</td>\n",
       "      <td></td>\n",
       "      <td>1807-53145</td>\n",
       "      <td>RT</td>\n",
       "      <td>I</td>\n",
       "      <td>NaN</td>\n",
       "      <td>...</td>\n",
       "      <td>790.0</td>\n",
       "      <td>21.900000</td>\n",
       "      <td>27.600000</td>\n",
       "      <td>211</td>\n",
       "      <td>215.000000</td>\n",
       "      <td>71.950667</td>\n",
       "      <td>0.792208</td>\n",
       "      <td>2.000000</td>\n",
       "      <td>0.00000</td>\n",
       "      <td>1</td>\n",
       "    </tr>\n",
       "    <tr>\n",
       "      <td>906</td>\n",
       "      <td>907</td>\n",
       "      <td>11</td>\n",
       "      <td>20</td>\n",
       "      <td>2003</td>\n",
       "      <td>9:56</td>\n",
       "      <td></td>\n",
       "      <td>1177-04778</td>\n",
       "      <td>RT</td>\n",
       "      <td>I</td>\n",
       "      <td>NaN</td>\n",
       "      <td>...</td>\n",
       "      <td>860.0</td>\n",
       "      <td>25.200000</td>\n",
       "      <td>28.000000</td>\n",
       "      <td>207</td>\n",
       "      <td>210.000000</td>\n",
       "      <td>71.950667</td>\n",
       "      <td>0.792208</td>\n",
       "      <td>2.000000</td>\n",
       "      <td>0.00000</td>\n",
       "      <td>1</td>\n",
       "    </tr>\n",
       "    <tr>\n",
       "      <td>907</td>\n",
       "      <td>908</td>\n",
       "      <td>11</td>\n",
       "      <td>20</td>\n",
       "      <td>2003</td>\n",
       "      <td>13:30</td>\n",
       "      <td></td>\n",
       "      <td>1207-53145</td>\n",
       "      <td>RT</td>\n",
       "      <td>A</td>\n",
       "      <td>NaN</td>\n",
       "      <td>...</td>\n",
       "      <td>1290.0</td>\n",
       "      <td>28.700000</td>\n",
       "      <td>32.100000</td>\n",
       "      <td>222</td>\n",
       "      <td>226.000000</td>\n",
       "      <td>71.950667</td>\n",
       "      <td>0.792208</td>\n",
       "      <td>1.000000</td>\n",
       "      <td>0.00000</td>\n",
       "      <td>1</td>\n",
       "    </tr>\n",
       "  </tbody>\n",
       "</table>\n",
       "<p>908 rows × 21 columns</p>\n",
       "</div>"
      ],
      "text/plain": [
       "     Count  Month  Day  Year Capture Time Release Time Band Number Species  \\\n",
       "0        1      9   19  1992        13:30          NaN   877-76317      RT   \n",
       "1        2      9   22  1992        10:30                877-76318      RT   \n",
       "2        3      9   23  1992        12:45                877-76319      RT   \n",
       "3        4      9   23  1992        10:50                745-49508      CH   \n",
       "4        5      9   27  1992        11:15               1253-98801      SS   \n",
       "..     ...    ...  ...   ...          ...          ...         ...     ...   \n",
       "903    904     11   18  2003        14:44               1177-04777      RT   \n",
       "904    905     11   19  2003        10:18                803-05985      SS   \n",
       "905    906     11   19  2003        12:02               1807-53145      RT   \n",
       "906    907     11   20  2003         9:56               1177-04778      RT   \n",
       "907    908     11   20  2003        13:30               1207-53145      RT   \n",
       "\n",
       "    Age  Sex  ...  Weight     Culmen     Hallux  Tail  Standard Tail  \\\n",
       "0     I  NaN  ...   920.0  25.700000  30.100000   219     199.182137   \n",
       "1     I  NaN  ...   930.0  21.801498  26.410865   221     199.182137   \n",
       "2     I  NaN  ...   990.0  26.700000  31.300000   235     199.182137   \n",
       "3     I    F  ...   470.0  18.700000  23.500000   220     199.182137   \n",
       "4     I    F  ...   170.0  12.500000  14.300000   157     199.182137   \n",
       "..   ..  ...  ...     ...        ...        ...   ...            ...   \n",
       "903   I  NaN  ...  1525.0  26.000000  27.600000   224     227.000000   \n",
       "904   I    F  ...   175.0  12.700000  15.400000   150     153.000000   \n",
       "905   I  NaN  ...   790.0  21.900000  27.600000   211     215.000000   \n",
       "906   I  NaN  ...   860.0  25.200000  28.000000   207     210.000000   \n",
       "907   A  NaN  ...  1290.0  28.700000  32.100000   222     226.000000   \n",
       "\n",
       "        Tarsus  WingPitFat   KeelFat     Crop  Species_code  \n",
       "0    71.950667    0.792208  2.184303  0.23454             1  \n",
       "1    71.950667    0.792208  2.184303  0.23454             1  \n",
       "2    71.950667    0.792208  2.184303  0.23454             1  \n",
       "3    71.950667    0.792208  2.184303  0.23454             0  \n",
       "4    71.950667    0.792208  2.184303  0.23454             2  \n",
       "..         ...         ...       ...      ...           ...  \n",
       "903  71.950667    0.792208  3.000000  0.00000             1  \n",
       "904  71.950667    0.792208  4.000000  0.00000             2  \n",
       "905  71.950667    0.792208  2.000000  0.00000             1  \n",
       "906  71.950667    0.792208  2.000000  0.00000             1  \n",
       "907  71.950667    0.792208  1.000000  0.00000             1  \n",
       "\n",
       "[908 rows x 21 columns]"
      ]
     },
     "execution_count": 7,
     "metadata": {},
     "output_type": "execute_result"
    }
   ],
   "source": [
    "df_hawks.fillna(df_hawks.mean())"
   ]
  },
  {
   "cell_type": "code",
   "execution_count": 8,
   "metadata": {},
   "outputs": [],
   "source": [
    "df_hawks1 = df_hawks.fillna(df_hawks.mean())"
   ]
  },
  {
   "cell_type": "code",
   "execution_count": 9,
   "metadata": {},
   "outputs": [
    {
     "data": {
      "text/html": [
       "<div>\n",
       "<style scoped>\n",
       "    .dataframe tbody tr th:only-of-type {\n",
       "        vertical-align: middle;\n",
       "    }\n",
       "\n",
       "    .dataframe tbody tr th {\n",
       "        vertical-align: top;\n",
       "    }\n",
       "\n",
       "    .dataframe thead th {\n",
       "        text-align: right;\n",
       "    }\n",
       "</style>\n",
       "<table border=\"1\" class=\"dataframe\">\n",
       "  <thead>\n",
       "    <tr style=\"text-align: right;\">\n",
       "      <th></th>\n",
       "      <th>Count</th>\n",
       "      <th>Month</th>\n",
       "      <th>Day</th>\n",
       "      <th>Year</th>\n",
       "      <th>Capture Time</th>\n",
       "      <th>Release Time</th>\n",
       "      <th>Band Number</th>\n",
       "      <th>Species</th>\n",
       "      <th>Age</th>\n",
       "      <th>Sex</th>\n",
       "      <th>...</th>\n",
       "      <th>Weight</th>\n",
       "      <th>Culmen</th>\n",
       "      <th>Hallux</th>\n",
       "      <th>Tail</th>\n",
       "      <th>Standard Tail</th>\n",
       "      <th>Tarsus</th>\n",
       "      <th>WingPitFat</th>\n",
       "      <th>KeelFat</th>\n",
       "      <th>Crop</th>\n",
       "      <th>Species_code</th>\n",
       "    </tr>\n",
       "  </thead>\n",
       "  <tbody>\n",
       "    <tr>\n",
       "      <td>0</td>\n",
       "      <td>1</td>\n",
       "      <td>9</td>\n",
       "      <td>19</td>\n",
       "      <td>1992</td>\n",
       "      <td>13:30</td>\n",
       "      <td>NaN</td>\n",
       "      <td>877-76317</td>\n",
       "      <td>RT</td>\n",
       "      <td>I</td>\n",
       "      <td>NaN</td>\n",
       "      <td>...</td>\n",
       "      <td>920.0</td>\n",
       "      <td>25.700000</td>\n",
       "      <td>30.100000</td>\n",
       "      <td>219</td>\n",
       "      <td>199.182137</td>\n",
       "      <td>71.950667</td>\n",
       "      <td>0.792208</td>\n",
       "      <td>2.184303</td>\n",
       "      <td>0.23454</td>\n",
       "      <td>1</td>\n",
       "    </tr>\n",
       "    <tr>\n",
       "      <td>1</td>\n",
       "      <td>2</td>\n",
       "      <td>9</td>\n",
       "      <td>22</td>\n",
       "      <td>1992</td>\n",
       "      <td>10:30</td>\n",
       "      <td></td>\n",
       "      <td>877-76318</td>\n",
       "      <td>RT</td>\n",
       "      <td>I</td>\n",
       "      <td>NaN</td>\n",
       "      <td>...</td>\n",
       "      <td>930.0</td>\n",
       "      <td>21.801498</td>\n",
       "      <td>26.410865</td>\n",
       "      <td>221</td>\n",
       "      <td>199.182137</td>\n",
       "      <td>71.950667</td>\n",
       "      <td>0.792208</td>\n",
       "      <td>2.184303</td>\n",
       "      <td>0.23454</td>\n",
       "      <td>1</td>\n",
       "    </tr>\n",
       "    <tr>\n",
       "      <td>2</td>\n",
       "      <td>3</td>\n",
       "      <td>9</td>\n",
       "      <td>23</td>\n",
       "      <td>1992</td>\n",
       "      <td>12:45</td>\n",
       "      <td></td>\n",
       "      <td>877-76319</td>\n",
       "      <td>RT</td>\n",
       "      <td>I</td>\n",
       "      <td>NaN</td>\n",
       "      <td>...</td>\n",
       "      <td>990.0</td>\n",
       "      <td>26.700000</td>\n",
       "      <td>31.300000</td>\n",
       "      <td>235</td>\n",
       "      <td>199.182137</td>\n",
       "      <td>71.950667</td>\n",
       "      <td>0.792208</td>\n",
       "      <td>2.184303</td>\n",
       "      <td>0.23454</td>\n",
       "      <td>1</td>\n",
       "    </tr>\n",
       "    <tr>\n",
       "      <td>3</td>\n",
       "      <td>4</td>\n",
       "      <td>9</td>\n",
       "      <td>23</td>\n",
       "      <td>1992</td>\n",
       "      <td>10:50</td>\n",
       "      <td></td>\n",
       "      <td>745-49508</td>\n",
       "      <td>CH</td>\n",
       "      <td>I</td>\n",
       "      <td>F</td>\n",
       "      <td>...</td>\n",
       "      <td>470.0</td>\n",
       "      <td>18.700000</td>\n",
       "      <td>23.500000</td>\n",
       "      <td>220</td>\n",
       "      <td>199.182137</td>\n",
       "      <td>71.950667</td>\n",
       "      <td>0.792208</td>\n",
       "      <td>2.184303</td>\n",
       "      <td>0.23454</td>\n",
       "      <td>0</td>\n",
       "    </tr>\n",
       "    <tr>\n",
       "      <td>4</td>\n",
       "      <td>5</td>\n",
       "      <td>9</td>\n",
       "      <td>27</td>\n",
       "      <td>1992</td>\n",
       "      <td>11:15</td>\n",
       "      <td></td>\n",
       "      <td>1253-98801</td>\n",
       "      <td>SS</td>\n",
       "      <td>I</td>\n",
       "      <td>F</td>\n",
       "      <td>...</td>\n",
       "      <td>170.0</td>\n",
       "      <td>12.500000</td>\n",
       "      <td>14.300000</td>\n",
       "      <td>157</td>\n",
       "      <td>199.182137</td>\n",
       "      <td>71.950667</td>\n",
       "      <td>0.792208</td>\n",
       "      <td>2.184303</td>\n",
       "      <td>0.23454</td>\n",
       "      <td>2</td>\n",
       "    </tr>\n",
       "  </tbody>\n",
       "</table>\n",
       "<p>5 rows × 21 columns</p>\n",
       "</div>"
      ],
      "text/plain": [
       "   Count  Month  Day  Year Capture Time Release Time Band Number Species Age  \\\n",
       "0      1      9   19  1992        13:30          NaN   877-76317      RT   I   \n",
       "1      2      9   22  1992        10:30                877-76318      RT   I   \n",
       "2      3      9   23  1992        12:45                877-76319      RT   I   \n",
       "3      4      9   23  1992        10:50                745-49508      CH   I   \n",
       "4      5      9   27  1992        11:15               1253-98801      SS   I   \n",
       "\n",
       "   Sex  ...  Weight     Culmen     Hallux  Tail  Standard Tail     Tarsus  \\\n",
       "0  NaN  ...   920.0  25.700000  30.100000   219     199.182137  71.950667   \n",
       "1  NaN  ...   930.0  21.801498  26.410865   221     199.182137  71.950667   \n",
       "2  NaN  ...   990.0  26.700000  31.300000   235     199.182137  71.950667   \n",
       "3    F  ...   470.0  18.700000  23.500000   220     199.182137  71.950667   \n",
       "4    F  ...   170.0  12.500000  14.300000   157     199.182137  71.950667   \n",
       "\n",
       "   WingPitFat   KeelFat     Crop  Species_code  \n",
       "0    0.792208  2.184303  0.23454             1  \n",
       "1    0.792208  2.184303  0.23454             1  \n",
       "2    0.792208  2.184303  0.23454             1  \n",
       "3    0.792208  2.184303  0.23454             0  \n",
       "4    0.792208  2.184303  0.23454             2  \n",
       "\n",
       "[5 rows x 21 columns]"
      ]
     },
     "execution_count": 9,
     "metadata": {},
     "output_type": "execute_result"
    }
   ],
   "source": [
    "df_hawks1.head()"
   ]
  },
  {
   "cell_type": "markdown",
   "metadata": {},
   "source": [
    "# subset data to keep the main features of interest.\n",
    "These are the features that have low NA's (< 1%, while the rest have NA's between 37% & 92%)"
   ]
  },
  {
   "cell_type": "code",
   "execution_count": 10,
   "metadata": {},
   "outputs": [],
   "source": [
    "df_hawks1 = df_hawks1.loc[:, ['Wing', 'Weight', 'Culmen', 'Hallux', 'Species_code']]"
   ]
  },
  {
   "cell_type": "code",
   "execution_count": 11,
   "metadata": {},
   "outputs": [
    {
     "data": {
      "text/html": [
       "<div>\n",
       "<style scoped>\n",
       "    .dataframe tbody tr th:only-of-type {\n",
       "        vertical-align: middle;\n",
       "    }\n",
       "\n",
       "    .dataframe tbody tr th {\n",
       "        vertical-align: top;\n",
       "    }\n",
       "\n",
       "    .dataframe thead th {\n",
       "        text-align: right;\n",
       "    }\n",
       "</style>\n",
       "<table border=\"1\" class=\"dataframe\">\n",
       "  <thead>\n",
       "    <tr style=\"text-align: right;\">\n",
       "      <th></th>\n",
       "      <th>Wing</th>\n",
       "      <th>Weight</th>\n",
       "      <th>Culmen</th>\n",
       "      <th>Hallux</th>\n",
       "      <th>Species_code</th>\n",
       "    </tr>\n",
       "  </thead>\n",
       "  <tbody>\n",
       "    <tr>\n",
       "      <td>0</td>\n",
       "      <td>385.0</td>\n",
       "      <td>920.0</td>\n",
       "      <td>25.700000</td>\n",
       "      <td>30.100000</td>\n",
       "      <td>1</td>\n",
       "    </tr>\n",
       "    <tr>\n",
       "      <td>1</td>\n",
       "      <td>376.0</td>\n",
       "      <td>930.0</td>\n",
       "      <td>21.801498</td>\n",
       "      <td>26.410865</td>\n",
       "      <td>1</td>\n",
       "    </tr>\n",
       "    <tr>\n",
       "      <td>2</td>\n",
       "      <td>381.0</td>\n",
       "      <td>990.0</td>\n",
       "      <td>26.700000</td>\n",
       "      <td>31.300000</td>\n",
       "      <td>1</td>\n",
       "    </tr>\n",
       "    <tr>\n",
       "      <td>3</td>\n",
       "      <td>265.0</td>\n",
       "      <td>470.0</td>\n",
       "      <td>18.700000</td>\n",
       "      <td>23.500000</td>\n",
       "      <td>0</td>\n",
       "    </tr>\n",
       "    <tr>\n",
       "      <td>4</td>\n",
       "      <td>205.0</td>\n",
       "      <td>170.0</td>\n",
       "      <td>12.500000</td>\n",
       "      <td>14.300000</td>\n",
       "      <td>2</td>\n",
       "    </tr>\n",
       "  </tbody>\n",
       "</table>\n",
       "</div>"
      ],
      "text/plain": [
       "    Wing  Weight     Culmen     Hallux  Species_code\n",
       "0  385.0   920.0  25.700000  30.100000             1\n",
       "1  376.0   930.0  21.801498  26.410865             1\n",
       "2  381.0   990.0  26.700000  31.300000             1\n",
       "3  265.0   470.0  18.700000  23.500000             0\n",
       "4  205.0   170.0  12.500000  14.300000             2"
      ]
     },
     "execution_count": 11,
     "metadata": {},
     "output_type": "execute_result"
    }
   ],
   "source": [
    "df_hawks1.head()"
   ]
  },
  {
   "cell_type": "markdown",
   "metadata": {},
   "source": [
    "# split the data into training and test"
   ]
  },
  {
   "cell_type": "code",
   "execution_count": 12,
   "metadata": {},
   "outputs": [],
   "source": [
    "from sklearn.model_selection import train_test_split\n",
    "\n",
    "X, y = df_hawks1.iloc[:,1:].values, df_hawks1.iloc[:,4].values\n",
    "\n",
    "X_train, X_test, y_train, y_test=train_test_split(X,y, test_size = 0.1, random_state = 0, stratify=y)"
   ]
  },
  {
   "cell_type": "code",
   "execution_count": 13,
   "metadata": {},
   "outputs": [
    {
     "name": "stdout",
     "output_type": "stream",
     "text": [
      "Labels counts in y: [ 70 577 261]\n",
      "Labels counts in y_train: [ 63 519 235]\n",
      "Labels counts in y_test: [ 7 58 26]\n"
     ]
    }
   ],
   "source": [
    "import numpy as np\n",
    "#to test the stratify = y \n",
    "print('Labels counts in y:', np.bincount(y))\n",
    "print('Labels counts in y_train:', np.bincount(y_train))\n",
    "print('Labels counts in y_test:', np.bincount(y_test))"
   ]
  },
  {
   "cell_type": "code",
   "execution_count": 14,
   "metadata": {},
   "outputs": [],
   "source": [
    "#Standardize the data\n",
    "\n",
    "from sklearn.preprocessing import StandardScaler\n",
    "sc = StandardScaler()\n",
    "sc.fit(X_train)\n",
    "X_train_std = sc.transform(X_train)\n",
    "X_test_std = sc.transform(X_test)"
   ]
  },
  {
   "cell_type": "markdown",
   "metadata": {},
   "source": [
    "# KNN algorithm"
   ]
  },
  {
   "cell_type": "code",
   "execution_count": 15,
   "metadata": {},
   "outputs": [],
   "source": [
    "#plot setup\n",
    "from matplotlib.colors import ListedColormap\n",
    "import matplotlib.pyplot as plt\n",
    "def plot_decision_regions(X,y,classifier, test_idx=None,\n",
    "                         resolution=0.02):\n",
    "    # setup marker generator and color map\n",
    "    markers = ('s', 'x', 'o', '^', 'v')\n",
    "    colors = ('red', 'blue', 'lightgreen', 'gray', 'cyan')\n",
    "    cmap = ListedColormap(colors[:len(np.unique(y))])\n",
    "    \n",
    "    # plot the decision surface\n",
    "    x1_min, x1_max = X[:, 0].min() - 1, X[:, 0].max() + 1\n",
    "    x2_min, x2_max = X[:, 1].min() - 1, X[:, 1].max() + 1\n",
    "    xx1, xx2 = np.meshgrid(np.arange(x1_min, x1_max, resolution), \n",
    "                           np.arange(x2_min, x2_max, resolution))\n",
    "    Z = classifier.predict(np.array([xx1.ravel(), xx2.ravel()]).T)\n",
    "    Z = Z.reshape(xx1.shape)\n",
    "    plt.contourf(xx1, xx2, Z, alpha=0.3, cmap=cmap)\n",
    "    plt.xlim(xx1.min(), xx1.max())\n",
    "    plt.ylim(xx2.min(), xx2.max())\n",
    "    \n",
    "    for idx, cl in enumerate(np.unique(y)):\n",
    "        plt.scatter(x=X[y == cl, 0], y=X[y == cl, 1],\n",
    "                    alpha=0.8, c=colors[idx],\n",
    "                    marker=markers[idx], label=cl, edgecolor='black')\n",
    "    \n",
    "    # highlight test examples\n",
    "    if test_idx:\n",
    "        # plot all examples\n",
    "        X_test, y_test = X[test_idx, :], y[test_idx]\n",
    "        \n",
    "        plt.scatter(X_test[:, 0], X_test[:, 1],\n",
    "                    c='', edgecolor='black', alpha=1.0,\n",
    "                    linewidth=1, marker='o',\n",
    "                    s=100, label='test set')"
   ]
  },
  {
   "cell_type": "code",
   "execution_count": 16,
   "metadata": {},
   "outputs": [
    {
     "data": {
      "text/plain": [
       "KNeighborsClassifier(algorithm='auto', leaf_size=30, metric='minkowski',\n",
       "                     metric_params=None, n_jobs=None, n_neighbors=3, p=2,\n",
       "                     weights='uniform')"
      ]
     },
     "execution_count": 16,
     "metadata": {},
     "output_type": "execute_result"
    }
   ],
   "source": [
    "from sklearn.neighbors import KNeighborsClassifier\n",
    "\n",
    "knn=KNeighborsClassifier(n_neighbors=3, p=2,\n",
    "                        metric='minkowski') #Euclidean distance which happens when metric='minkowski' and p=2. If p=1 then it would be Manhattan distance. Also this estimates 5 classes.\n",
    "knn.fit(X_train_std, y_train)"
   ]
  },
  {
   "cell_type": "code",
   "execution_count": 17,
   "metadata": {},
   "outputs": [
    {
     "name": "stdout",
     "output_type": "stream",
     "text": [
      "[[ 6  0  1]\n",
      " [ 1 57  0]\n",
      " [ 1  1 24]]\n"
     ]
    }
   ],
   "source": [
    "from sklearn.metrics import confusion_matrix\n",
    "knn.fit(X_train, y_train)\n",
    "y_pred = knn.predict(X_test)\n",
    "confmat = confusion_matrix(y_true=y_test, y_pred=y_pred)\n",
    "print(confmat)\n",
    "# we see 4 misclassifications"
   ]
  },
  {
   "cell_type": "code",
   "execution_count": 18,
   "metadata": {},
   "outputs": [
    {
     "data": {
      "image/png": "[encoded data removed]",
      "text/plain": [
       "<Figure size 180x180 with 1 Axes>"
      ]
     },
     "metadata": {
      "needs_background": "light"
     },
     "output_type": "display_data"
    }
   ],
   "source": [
    "# or present in a pretty plot\n",
    "# a pretty plot\n",
    "fig, ax = plt.subplots(figsize=(2.5, 2.5))\n",
    "ax.matshow(confmat, cmap=plt.cm.Blues, alpha=0.3)\n",
    "for i in range(confmat.shape[0]):\n",
    "     for j in range(confmat.shape[1]):\n",
    "         ax.text(x=j, y=i,\n",
    "                 s=confmat[i, j],\n",
    "                 va='center', ha='center')\n",
    "plt.xlabel('Predicted label')\n",
    "plt.ylabel('True label')\n",
    "plt.show()"
   ]
  },
  {
   "cell_type": "markdown",
   "metadata": {},
   "source": [
    "### We have an accuracy of 95.60% with the KNN model. this is slightly worse than the KNN in R, which had an accuracy of 98.80. The difference is most likely due to different estimation methods between the softwares"
   ]
  },
  {
   "cell_type": "code",
   "execution_count": 19,
   "metadata": {},
   "outputs": [
    {
     "data": {
      "text/plain": [
       "0.9560439560439561"
      ]
     },
     "execution_count": 19,
     "metadata": {},
     "output_type": "execute_result"
    }
   ],
   "source": [
    "from mlxtend.evaluate import accuracy_score\n",
    "accuracy_score(y_test, y_pred)"
   ]
  },
  {
   "cell_type": "markdown",
   "metadata": {},
   "source": [
    "# Decision tree model with Gini impurity\n",
    "Gini impurity and entropy(scaled) are almost identical in practice for basing decisions purity(homogeneity) of each leaf(node)( there is alos the information gain which is somewhat like the opposite of impurity. We want to maximize the infromation gain and minimize the impurity at each decision. Misclassification is the different one, it is best used for PRUNING but NOT for building a tree. See below plot"
   ]
  },
  {
   "cell_type": "code",
   "execution_count": 20,
   "metadata": {},
   "outputs": [
    {
     "data": {
      "text/plain": [
       "Text(0, 0.5, 'impurity index')"
      ]
     },
     "execution_count": 20,
     "metadata": {},
     "output_type": "execute_result"
    },
    {
     "data": {
      "image/png": "[encoded data removed]",
      "text/plain": [
       "<Figure size 432x288 with 1 Axes>"
      ]
     },
     "metadata": {
      "needs_background": "light"
     },
     "output_type": "display_data"
    }
   ],
   "source": [
    ">>> import matplotlib.pyplot as plt\n",
    ">>> import numpy as np\n",
    ">>> def gini(p):\n",
    "...     return (p)*(1 - (p)) + (1 - p)*(1 - (1-p))\n",
    ">>> def entropy(p):\n",
    "...     return - p*np.log2(p) - (1 - p)*np.log2((1 - p))\n",
    ">>> def error(p):\n",
    "...     return 1 - np.max([p, 1 - p])\n",
    ">>> x = np.arange(0.0, 1.0, 0.01)\n",
    ">>> ent = [entropy(p) if p != 0 else None for p in x]\n",
    ">>> sc_ent = [e*0.5 if e else None for e in ent]\n",
    ">>> err = [error(i) for i in x]\n",
    ">>> fig = plt.figure()\n",
    ">>> ax = plt.subplot(111)\n",
    ">>> for i, lab, ls, c, in zip([ent, sc_ent, gini(x), err],\n",
    "...                           ['Entropy', 'Entropy (scaled)',\n",
    "...                            'Gini impurity',\n",
    "...                            'Misclassification error'],\n",
    "...                           ['-', '-', '--', '-.'],\n",
    "...                           ['black', 'lightgray',                           \n",
    "                               'red', 'green', 'cyan']):\n",
    "...     line = ax.plot(x, i, label=lab,\n",
    "...                   linestyle=ls, lw=2, color=c)\n",
    ">>> ax.legend(loc='upper center', bbox_to_anchor=(0.5, 1.15),\n",
    "...           ncol=5, fancybox=True, shadow=False)\n",
    ">>> ax.axhline(y=0.5, linewidth=1, color='k', linestyle='--')\n",
    ">>> ax.axhline(y=1.0, linewidth=1, color='k', linestyle='--')\n",
    ">>> plt.ylim([0, 1.1])\n",
    ">>> plt.xlabel('p(i=1)')\n",
    ">>> plt.ylabel('impurity index')"
   ]
  },
  {
   "cell_type": "markdown",
   "metadata": {},
   "source": [
    "## Run the Decision tree model"
   ]
  },
  {
   "cell_type": "code",
   "execution_count": 21,
   "metadata": {},
   "outputs": [
    {
     "data": {
      "text/plain": [
       "DecisionTreeClassifier(class_weight=None, criterion='gini', max_depth=3,\n",
       "                       max_features=None, max_leaf_nodes=None,\n",
       "                       min_impurity_decrease=0.0, min_impurity_split=None,\n",
       "                       min_samples_leaf=1, min_samples_split=2,\n",
       "                       min_weight_fraction_leaf=0.0, presort=False,\n",
       "                       random_state=1, splitter='best')"
      ]
     },
     "execution_count": 21,
     "metadata": {},
     "output_type": "execute_result"
    }
   ],
   "source": [
    "from sklearn.tree import DecisionTreeClassifier\n",
    "tree_model = DecisionTreeClassifier(criterion = 'gini', #could use 'entropy' instead\n",
    "                                   max_depth = 3,\n",
    "                                   random_state=1)\n",
    "tree_model.fit(X_train, y_train)"
   ]
  },
  {
   "cell_type": "markdown",
   "metadata": {},
   "source": [
    "## Build the Decision trees"
   ]
  },
  {
   "cell_type": "code",
   "execution_count": 22,
   "metadata": {},
   "outputs": [
    {
     "data": {
      "image/png": "[encoded data removed]",
      "text/plain": [
       "<Figure size 432x288 with 1 Axes>"
      ]
     },
     "metadata": {
      "needs_background": "light"
     },
     "output_type": "display_data"
    }
   ],
   "source": [
    "from sklearn import tree\n",
    "tree.plot_tree(tree_model)\n",
    "plt.show()\n",
    "# The simple Decision tree "
   ]
  },
  {
   "cell_type": "code",
   "execution_count": 25,
   "metadata": {},
   "outputs": [
    {
     "name": "stdout",
     "output_type": "stream",
     "text": [
      "Collecting package metadata (current_repodata.json): done\n",
      "Solving environment: done\n",
      "\n",
      "# All requested packages already installed.\n",
      "\n",
      "\n",
      "Note: you may need to restart the kernel to use updated packages.\n"
     ]
    }
   ],
   "source": [
    "#conda install graphviz"
   ]
  },
  {
   "cell_type": "code",
   "execution_count": 26,
   "metadata": {},
   "outputs": [
    {
     "name": "stdout",
     "output_type": "stream",
     "text": [
      "Collecting package metadata (current_repodata.json): done\n",
      "Solving environment: done\n",
      "\n",
      "## Package Plan ##\n",
      "\n",
      "  environment location: /Users/kevingreenberg/opt/anaconda3\n",
      "\n",
      "  added / updated specs:\n",
      "    - python-graphviz\n",
      "\n",
      "\n",
      "The following packages will be downloaded:\n",
      "\n",
      "    package                    |            build\n",
      "    ---------------------------|-----------------\n",
      "    python-graphviz-0.14       |             py_0          25 KB\n",
      "    ------------------------------------------------------------\n",
      "                                           Total:          25 KB\n",
      "\n",
      "The following NEW packages will be INSTALLED:\n",
      "\n",
      "  python-graphviz    pkgs/main/noarch::python-graphviz-0.14-py_0\n",
      "\n",
      "\n",
      "\n",
      "Downloading and Extracting Packages\n",
      "python-graphviz-0.14 | 25 KB     | ##################################### | 100% \n",
      "Preparing transaction: done\n",
      "Verifying transaction: done\n",
      "Executing transaction: done\n",
      "\n",
      "Note: you may need to restart the kernel to use updated packages.\n"
     ]
    }
   ],
   "source": [
    "#conda install python-graphviz"
   ]
  },
  {
   "cell_type": "code",
   "execution_count": 35,
   "metadata": {},
   "outputs": [
    {
     "data": {
      "image/svg+xml": [
       "<?xml version=\"1.0\" encoding=\"UTF-8\" standalone=\"no\"?>\n",
       "<!DOCTYPE svg PUBLIC \"-//W3C//DTD SVG 1.1//EN\"\n",
       " \"http://www.w3.org/Graphics/SVG/1.1/DTD/svg11.dtd\">\n",
       "<!-- Generated by graphviz version 2.40.1 (20161225.0304)\n",
       " -->\n",
       "<!-- Title: Tree Pages: 1 -->\n",
       "<svg width=\"675pt\" height=\"433pt\"\n",
       " viewBox=\"0.00 0.00 674.50 433.00\" xmlns=\"http://www.w3.org/2000/svg\" xmlns:xlink=\"http://www.w3.org/1999/xlink\">\n",
       "<g id=\"graph0\" class=\"graph\" transform=\"scale(1 1) rotate(0) translate(4 429)\">\n",
       "<title>Tree</title>\n",
       "<polygon fill=\"#ffffff\" stroke=\"transparent\" points=\"-4,4 -4,-429 670.5,-429 670.5,4 -4,4\"/>\n",
       "<!-- 0 -->\n",
       "<g id=\"node1\" class=\"node\">\n",
       "<title>0</title>\n",
       "<path fill=\"#9ef2c2\" stroke=\"#000000\" d=\"M413,-425C413,-425 285,-425 285,-425 279,-425 273,-419 273,-413 273,-413 273,-354 273,-354 273,-348 279,-342 285,-342 285,-342 413,-342 413,-342 419,-342 425,-348 425,-354 425,-354 425,-413 425,-413 425,-419 419,-425 413,-425\"/>\n",
       "<text text-anchor=\"start\" x=\"305.5\" y=\"-409.8\" font-family=\"Helvetica,sans-Serif\" font-size=\"14.00\" fill=\"#000000\">Weight ≤ 20.1</text>\n",
       "<text text-anchor=\"start\" x=\"312.5\" y=\"-394.8\" font-family=\"Helvetica,sans-Serif\" font-size=\"14.00\" fill=\"#000000\">gini = 0.508</text>\n",
       "<text text-anchor=\"start\" x=\"303\" y=\"-379.8\" font-family=\"Helvetica,sans-Serif\" font-size=\"14.00\" fill=\"#000000\">samples = 817</text>\n",
       "<text text-anchor=\"start\" x=\"281\" y=\"-364.8\" font-family=\"Helvetica,sans-Serif\" font-size=\"14.00\" fill=\"#000000\">value = [63, 519, 235]</text>\n",
       "<text text-anchor=\"start\" x=\"293.5\" y=\"-349.8\" font-family=\"Helvetica,sans-Serif\" font-size=\"14.00\" fill=\"#000000\">class = Red tailed</text>\n",
       "</g>\n",
       "<!-- 1 -->\n",
       "<g id=\"node2\" class=\"node\">\n",
       "<title>1</title>\n",
       "<path fill=\"#a36eec\" stroke=\"#000000\" d=\"M334.5,-306C334.5,-306 203.5,-306 203.5,-306 197.5,-306 191.5,-300 191.5,-294 191.5,-294 191.5,-235 191.5,-235 191.5,-229 197.5,-223 203.5,-223 203.5,-223 334.5,-223 334.5,-223 340.5,-223 346.5,-229 346.5,-235 346.5,-235 346.5,-294 346.5,-294 346.5,-300 340.5,-306 334.5,-306\"/>\n",
       "<text text-anchor=\"start\" x=\"232\" y=\"-290.8\" font-family=\"Helvetica,sans-Serif\" font-size=\"14.00\" fill=\"#000000\">Hallux ≤ 1.5</text>\n",
       "<text text-anchor=\"start\" x=\"232.5\" y=\"-275.8\" font-family=\"Helvetica,sans-Serif\" font-size=\"14.00\" fill=\"#000000\">gini = 0.339</text>\n",
       "<text text-anchor=\"start\" x=\"223\" y=\"-260.8\" font-family=\"Helvetica,sans-Serif\" font-size=\"14.00\" fill=\"#000000\">samples = 295</text>\n",
       "<text text-anchor=\"start\" x=\"209\" y=\"-245.8\" font-family=\"Helvetica,sans-Serif\" font-size=\"14.00\" fill=\"#000000\">value = [61, 2, 232]</text>\n",
       "<text text-anchor=\"start\" x=\"199.5\" y=\"-230.8\" font-family=\"Helvetica,sans-Serif\" font-size=\"14.00\" fill=\"#000000\">class = Sharp&#45;shinned</text>\n",
       "</g>\n",
       "<!-- 0&#45;&gt;1 -->\n",
       "<g id=\"edge1\" class=\"edge\">\n",
       "<title>0&#45;&gt;1</title>\n",
       "<path fill=\"none\" stroke=\"#000000\" d=\"M321.0199,-341.8796C315.1469,-333.1434 308.8927,-323.8404 302.8321,-314.8253\"/>\n",
       "<polygon fill=\"#000000\" stroke=\"#000000\" points=\"305.5834,-312.6444 297.0995,-306.2981 299.7741,-316.5498 305.5834,-312.6444\"/>\n",
       "<text text-anchor=\"middle\" x=\"292.2915\" y=\"-327.1314\" font-family=\"Helvetica,sans-Serif\" font-size=\"14.00\" fill=\"#000000\">True</text>\n",
       "</g>\n",
       "<!-- 6 -->\n",
       "<g id=\"node7\" class=\"node\">\n",
       "<title>6</title>\n",
       "<path fill=\"#3be582\" stroke=\"#000000\" d=\"M481,-306C481,-306 377,-306 377,-306 371,-306 365,-300 365,-294 365,-294 365,-235 365,-235 365,-229 371,-223 377,-223 377,-223 481,-223 481,-223 487,-223 493,-229 493,-235 493,-235 493,-294 493,-294 493,-300 487,-306 481,-306\"/>\n",
       "<text text-anchor=\"start\" x=\"392\" y=\"-290.8\" font-family=\"Helvetica,sans-Serif\" font-size=\"14.00\" fill=\"#000000\">Hallux ≤ 1.5</text>\n",
       "<text text-anchor=\"start\" x=\"392.5\" y=\"-275.8\" font-family=\"Helvetica,sans-Serif\" font-size=\"14.00\" fill=\"#000000\">gini = 0.019</text>\n",
       "<text text-anchor=\"start\" x=\"383\" y=\"-260.8\" font-family=\"Helvetica,sans-Serif\" font-size=\"14.00\" fill=\"#000000\">samples = 522</text>\n",
       "<text text-anchor=\"start\" x=\"373\" y=\"-245.8\" font-family=\"Helvetica,sans-Serif\" font-size=\"14.00\" fill=\"#000000\">value = [2, 517, 3]</text>\n",
       "<text text-anchor=\"start\" x=\"373.5\" y=\"-230.8\" font-family=\"Helvetica,sans-Serif\" font-size=\"14.00\" fill=\"#000000\">class = Red tailed</text>\n",
       "</g>\n",
       "<!-- 0&#45;&gt;6 -->\n",
       "<g id=\"edge6\" class=\"edge\">\n",
       "<title>0&#45;&gt;6</title>\n",
       "<path fill=\"none\" stroke=\"#000000\" d=\"M376.9801,-341.8796C382.8531,-333.1434 389.1073,-323.8404 395.1679,-314.8253\"/>\n",
       "<polygon fill=\"#000000\" stroke=\"#000000\" points=\"398.2259,-316.5498 400.9005,-306.2981 392.4166,-312.6444 398.2259,-316.5498\"/>\n",
       "<text text-anchor=\"middle\" x=\"405.7085\" y=\"-327.1314\" font-family=\"Helvetica,sans-Serif\" font-size=\"14.00\" fill=\"#000000\">False</text>\n",
       "</g>\n",
       "<!-- 2 -->\n",
       "<g id=\"node3\" class=\"node\">\n",
       "<title>2</title>\n",
       "<path fill=\"#e6853f\" stroke=\"#000000\" d=\"M161,-187C161,-187 65,-187 65,-187 59,-187 53,-181 53,-175 53,-175 53,-116 53,-116 53,-110 59,-104 65,-104 65,-104 161,-104 161,-104 167,-104 173,-110 173,-116 173,-116 173,-175 173,-175 173,-181 167,-187 161,-187\"/>\n",
       "<text text-anchor=\"start\" x=\"76\" y=\"-171.8\" font-family=\"Helvetica,sans-Serif\" font-size=\"14.00\" fill=\"#000000\">Hallux ≤ 0.5</text>\n",
       "<text text-anchor=\"start\" x=\"76.5\" y=\"-156.8\" font-family=\"Helvetica,sans-Serif\" font-size=\"14.00\" fill=\"#000000\">gini = 0.061</text>\n",
       "<text text-anchor=\"start\" x=\"71\" y=\"-141.8\" font-family=\"Helvetica,sans-Serif\" font-size=\"14.00\" fill=\"#000000\">samples = 63</text>\n",
       "<text text-anchor=\"start\" x=\"61\" y=\"-126.8\" font-family=\"Helvetica,sans-Serif\" font-size=\"14.00\" fill=\"#000000\">value = [61, 2, 0]</text>\n",
       "<text text-anchor=\"start\" x=\"62.5\" y=\"-111.8\" font-family=\"Helvetica,sans-Serif\" font-size=\"14.00\" fill=\"#000000\">class = Coopers</text>\n",
       "</g>\n",
       "<!-- 1&#45;&gt;2 -->\n",
       "<g id=\"edge2\" class=\"edge\">\n",
       "<title>1&#45;&gt;2</title>\n",
       "<path fill=\"none\" stroke=\"#000000\" d=\"M214.4388,-222.8796C201.9698,-213.368 188.6198,-203.1843 175.8352,-193.432\"/>\n",
       "<polygon fill=\"#000000\" stroke=\"#000000\" points=\"177.604,-190.3792 167.5304,-187.0969 173.3585,-195.9448 177.604,-190.3792\"/>\n",
       "</g>\n",
       "<!-- 5 -->\n",
       "<g id=\"node6\" class=\"node\">\n",
       "<title>5</title>\n",
       "<path fill=\"#8139e5\" stroke=\"#000000\" d=\"M334.5,-179.5C334.5,-179.5 203.5,-179.5 203.5,-179.5 197.5,-179.5 191.5,-173.5 191.5,-167.5 191.5,-167.5 191.5,-123.5 191.5,-123.5 191.5,-117.5 197.5,-111.5 203.5,-111.5 203.5,-111.5 334.5,-111.5 334.5,-111.5 340.5,-111.5 346.5,-117.5 346.5,-123.5 346.5,-123.5 346.5,-167.5 346.5,-167.5 346.5,-173.5 340.5,-179.5 334.5,-179.5\"/>\n",
       "<text text-anchor=\"start\" x=\"240\" y=\"-164.3\" font-family=\"Helvetica,sans-Serif\" font-size=\"14.00\" fill=\"#000000\">gini = 0.0</text>\n",
       "<text text-anchor=\"start\" x=\"223\" y=\"-149.3\" font-family=\"Helvetica,sans-Serif\" font-size=\"14.00\" fill=\"#000000\">samples = 232</text>\n",
       "<text text-anchor=\"start\" x=\"213\" y=\"-134.3\" font-family=\"Helvetica,sans-Serif\" font-size=\"14.00\" fill=\"#000000\">value = [0, 0, 232]</text>\n",
       "<text text-anchor=\"start\" x=\"199.5\" y=\"-119.3\" font-family=\"Helvetica,sans-Serif\" font-size=\"14.00\" fill=\"#000000\">class = Sharp&#45;shinned</text>\n",
       "</g>\n",
       "<!-- 1&#45;&gt;5 -->\n",
       "<g id=\"edge5\" class=\"edge\">\n",
       "<title>1&#45;&gt;5</title>\n",
       "<path fill=\"none\" stroke=\"#000000\" d=\"M269,-222.8796C269,-212.2134 269,-200.7021 269,-189.9015\"/>\n",
       "<polygon fill=\"#000000\" stroke=\"#000000\" points=\"272.5001,-189.8149 269,-179.8149 265.5001,-189.815 272.5001,-189.8149\"/>\n",
       "</g>\n",
       "<!-- 3 -->\n",
       "<g id=\"node4\" class=\"node\">\n",
       "<title>3</title>\n",
       "<path fill=\"#e58139\" stroke=\"#000000\" d=\"M108,-68C108,-68 12,-68 12,-68 6,-68 0,-62 0,-56 0,-56 0,-12 0,-12 0,-6 6,0 12,0 12,0 108,0 108,0 114,0 120,-6 120,-12 120,-12 120,-56 120,-56 120,-62 114,-68 108,-68\"/>\n",
       "<text text-anchor=\"start\" x=\"31\" y=\"-52.8\" font-family=\"Helvetica,sans-Serif\" font-size=\"14.00\" fill=\"#000000\">gini = 0.0</text>\n",
       "<text text-anchor=\"start\" x=\"18\" y=\"-37.8\" font-family=\"Helvetica,sans-Serif\" font-size=\"14.00\" fill=\"#000000\">samples = 61</text>\n",
       "<text text-anchor=\"start\" x=\"8\" y=\"-22.8\" font-family=\"Helvetica,sans-Serif\" font-size=\"14.00\" fill=\"#000000\">value = [61, 0, 0]</text>\n",
       "<text text-anchor=\"start\" x=\"9.5\" y=\"-7.8\" font-family=\"Helvetica,sans-Serif\" font-size=\"14.00\" fill=\"#000000\">class = Coopers</text>\n",
       "</g>\n",
       "<!-- 2&#45;&gt;3 -->\n",
       "<g id=\"edge3\" class=\"edge\">\n",
       "<title>2&#45;&gt;3</title>\n",
       "<path fill=\"none\" stroke=\"#000000\" d=\"M93.2648,-103.9815C89.1582,-95.3423 84.8194,-86.2144 80.6799,-77.5059\"/>\n",
       "<polygon fill=\"#000000\" stroke=\"#000000\" points=\"83.7409,-75.7927 76.2868,-68.2637 77.4188,-78.7979 83.7409,-75.7927\"/>\n",
       "</g>\n",
       "<!-- 4 -->\n",
       "<g id=\"node5\" class=\"node\">\n",
       "<title>4</title>\n",
       "<path fill=\"#39e581\" stroke=\"#000000\" d=\"M253.5,-68C253.5,-68 150.5,-68 150.5,-68 144.5,-68 138.5,-62 138.5,-56 138.5,-56 138.5,-12 138.5,-12 138.5,-6 144.5,0 150.5,0 150.5,0 253.5,0 253.5,0 259.5,0 265.5,-6 265.5,-12 265.5,-12 265.5,-56 265.5,-56 265.5,-62 259.5,-68 253.5,-68\"/>\n",
       "<text text-anchor=\"start\" x=\"173\" y=\"-52.8\" font-family=\"Helvetica,sans-Serif\" font-size=\"14.00\" fill=\"#000000\">gini = 0.0</text>\n",
       "<text text-anchor=\"start\" x=\"164\" y=\"-37.8\" font-family=\"Helvetica,sans-Serif\" font-size=\"14.00\" fill=\"#000000\">samples = 2</text>\n",
       "<text text-anchor=\"start\" x=\"153.5\" y=\"-22.8\" font-family=\"Helvetica,sans-Serif\" font-size=\"14.00\" fill=\"#000000\">value = [0, 2, 0]</text>\n",
       "<text text-anchor=\"start\" x=\"146.5\" y=\"-7.8\" font-family=\"Helvetica,sans-Serif\" font-size=\"14.00\" fill=\"#000000\">class = Red tailed</text>\n",
       "</g>\n",
       "<!-- 2&#45;&gt;4 -->\n",
       "<g id=\"edge4\" class=\"edge\">\n",
       "<title>2&#45;&gt;4</title>\n",
       "<path fill=\"none\" stroke=\"#000000\" d=\"M146.1403,-103.9815C153.403,-94.8828 161.0983,-85.242 168.3796,-76.1199\"/>\n",
       "<polygon fill=\"#000000\" stroke=\"#000000\" points=\"171.1475,-78.2627 174.6505,-68.2637 165.6766,-73.8958 171.1475,-78.2627\"/>\n",
       "</g>\n",
       "<!-- 7 -->\n",
       "<g id=\"node8\" class=\"node\">\n",
       "<title>7</title>\n",
       "<path fill=\"#3ae581\" stroke=\"#000000\" d=\"M481,-187C481,-187 377,-187 377,-187 371,-187 365,-181 365,-175 365,-175 365,-116 365,-116 365,-110 371,-104 377,-104 377,-104 481,-104 481,-104 487,-104 493,-110 493,-116 493,-116 493,-175 493,-175 493,-181 487,-187 481,-187\"/>\n",
       "<text text-anchor=\"start\" x=\"392\" y=\"-171.8\" font-family=\"Helvetica,sans-Serif\" font-size=\"14.00\" fill=\"#000000\">Hallux ≤ 0.5</text>\n",
       "<text text-anchor=\"start\" x=\"392.5\" y=\"-156.8\" font-family=\"Helvetica,sans-Serif\" font-size=\"14.00\" fill=\"#000000\">gini = 0.008</text>\n",
       "<text text-anchor=\"start\" x=\"383\" y=\"-141.8\" font-family=\"Helvetica,sans-Serif\" font-size=\"14.00\" fill=\"#000000\">samples = 519</text>\n",
       "<text text-anchor=\"start\" x=\"373\" y=\"-126.8\" font-family=\"Helvetica,sans-Serif\" font-size=\"14.00\" fill=\"#000000\">value = [2, 517, 0]</text>\n",
       "<text text-anchor=\"start\" x=\"373.5\" y=\"-111.8\" font-family=\"Helvetica,sans-Serif\" font-size=\"14.00\" fill=\"#000000\">class = Red tailed</text>\n",
       "</g>\n",
       "<!-- 6&#45;&gt;7 -->\n",
       "<g id=\"edge7\" class=\"edge\">\n",
       "<title>6&#45;&gt;7</title>\n",
       "<path fill=\"none\" stroke=\"#000000\" d=\"M429,-222.8796C429,-214.6838 429,-205.9891 429,-197.5013\"/>\n",
       "<polygon fill=\"#000000\" stroke=\"#000000\" points=\"432.5001,-197.298 429,-187.2981 425.5001,-197.2981 432.5001,-197.298\"/>\n",
       "</g>\n",
       "<!-- 10 -->\n",
       "<g id=\"node11\" class=\"node\">\n",
       "<title>10</title>\n",
       "<path fill=\"#8139e5\" stroke=\"#000000\" d=\"M654.5,-179.5C654.5,-179.5 523.5,-179.5 523.5,-179.5 517.5,-179.5 511.5,-173.5 511.5,-167.5 511.5,-167.5 511.5,-123.5 511.5,-123.5 511.5,-117.5 517.5,-111.5 523.5,-111.5 523.5,-111.5 654.5,-111.5 654.5,-111.5 660.5,-111.5 666.5,-117.5 666.5,-123.5 666.5,-123.5 666.5,-167.5 666.5,-167.5 666.5,-173.5 660.5,-179.5 654.5,-179.5\"/>\n",
       "<text text-anchor=\"start\" x=\"560\" y=\"-164.3\" font-family=\"Helvetica,sans-Serif\" font-size=\"14.00\" fill=\"#000000\">gini = 0.0</text>\n",
       "<text text-anchor=\"start\" x=\"551\" y=\"-149.3\" font-family=\"Helvetica,sans-Serif\" font-size=\"14.00\" fill=\"#000000\">samples = 3</text>\n",
       "<text text-anchor=\"start\" x=\"540.5\" y=\"-134.3\" font-family=\"Helvetica,sans-Serif\" font-size=\"14.00\" fill=\"#000000\">value = [0, 0, 3]</text>\n",
       "<text text-anchor=\"start\" x=\"519.5\" y=\"-119.3\" font-family=\"Helvetica,sans-Serif\" font-size=\"14.00\" fill=\"#000000\">class = Sharp&#45;shinned</text>\n",
       "</g>\n",
       "<!-- 6&#45;&gt;10 -->\n",
       "<g id=\"edge10\" class=\"edge\">\n",
       "<title>6&#45;&gt;10</title>\n",
       "<path fill=\"none\" stroke=\"#000000\" d=\"M484.9602,-222.8796C501.1522,-210.8368 518.7927,-197.7167 534.8708,-185.7586\"/>\n",
       "<polygon fill=\"#000000\" stroke=\"#000000\" points=\"537.185,-188.3993 543.1203,-179.623 533.0075,-182.7825 537.185,-188.3993\"/>\n",
       "</g>\n",
       "<!-- 8 -->\n",
       "<g id=\"node9\" class=\"node\">\n",
       "<title>8</title>\n",
       "<path fill=\"#e58139\" stroke=\"#000000\" d=\"M431.5,-68C431.5,-68 338.5,-68 338.5,-68 332.5,-68 326.5,-62 326.5,-56 326.5,-56 326.5,-12 326.5,-12 326.5,-6 332.5,0 338.5,0 338.5,0 431.5,0 431.5,0 437.5,0 443.5,-6 443.5,-12 443.5,-12 443.5,-56 443.5,-56 443.5,-62 437.5,-68 431.5,-68\"/>\n",
       "<text text-anchor=\"start\" x=\"356\" y=\"-52.8\" font-family=\"Helvetica,sans-Serif\" font-size=\"14.00\" fill=\"#000000\">gini = 0.0</text>\n",
       "<text text-anchor=\"start\" x=\"347\" y=\"-37.8\" font-family=\"Helvetica,sans-Serif\" font-size=\"14.00\" fill=\"#000000\">samples = 2</text>\n",
       "<text text-anchor=\"start\" x=\"336.5\" y=\"-22.8\" font-family=\"Helvetica,sans-Serif\" font-size=\"14.00\" fill=\"#000000\">value = [2, 0, 0]</text>\n",
       "<text text-anchor=\"start\" x=\"334.5\" y=\"-7.8\" font-family=\"Helvetica,sans-Serif\" font-size=\"14.00\" fill=\"#000000\">class = Coopers</text>\n",
       "</g>\n",
       "<!-- 7&#45;&gt;8 -->\n",
       "<g id=\"edge8\" class=\"edge\">\n",
       "<title>7&#45;&gt;8</title>\n",
       "<path fill=\"none\" stroke=\"#000000\" d=\"M412.616,-103.9815C409.2431,-95.4342 405.6814,-86.4086 402.278,-77.7839\"/>\n",
       "<polygon fill=\"#000000\" stroke=\"#000000\" points=\"405.4475,-76.2808 398.5211,-68.2637 398.9362,-78.8504 405.4475,-76.2808\"/>\n",
       "</g>\n",
       "<!-- 9 -->\n",
       "<g id=\"node10\" class=\"node\">\n",
       "<title>9</title>\n",
       "<path fill=\"#39e581\" stroke=\"#000000\" d=\"M578,-68C578,-68 474,-68 474,-68 468,-68 462,-62 462,-56 462,-56 462,-12 462,-12 462,-6 468,0 474,0 474,0 578,0 578,0 584,0 590,-6 590,-12 590,-12 590,-56 590,-56 590,-62 584,-68 578,-68\"/>\n",
       "<text text-anchor=\"start\" x=\"497\" y=\"-52.8\" font-family=\"Helvetica,sans-Serif\" font-size=\"14.00\" fill=\"#000000\">gini = 0.0</text>\n",
       "<text text-anchor=\"start\" x=\"480\" y=\"-37.8\" font-family=\"Helvetica,sans-Serif\" font-size=\"14.00\" fill=\"#000000\">samples = 517</text>\n",
       "<text text-anchor=\"start\" x=\"470\" y=\"-22.8\" font-family=\"Helvetica,sans-Serif\" font-size=\"14.00\" fill=\"#000000\">value = [0, 517, 0]</text>\n",
       "<text text-anchor=\"start\" x=\"470.5\" y=\"-7.8\" font-family=\"Helvetica,sans-Serif\" font-size=\"14.00\" fill=\"#000000\">class = Red tailed</text>\n",
       "</g>\n",
       "<!-- 7&#45;&gt;9 -->\n",
       "<g id=\"edge9\" class=\"edge\">\n",
       "<title>7&#45;&gt;9</title>\n",
       "<path fill=\"none\" stroke=\"#000000\" d=\"M465.1192,-103.9815C473.1147,-94.7908 481.5913,-85.0472 489.5979,-75.8436\"/>\n",
       "<polygon fill=\"#000000\" stroke=\"#000000\" points=\"492.2693,-78.1055 496.1921,-68.2637 486.988,-73.5111 492.2693,-78.1055\"/>\n",
       "</g>\n",
       "</g>\n",
       "</svg>\n"
      ],
      "text/plain": [
       "<graphviz.files.Source at 0x7fa0ba091610>"
      ]
     },
     "execution_count": 35,
     "metadata": {},
     "output_type": "execute_result"
    }
   ],
   "source": [
    "import graphviz \n",
    "dot_data = tree.export_graphviz(tree_model, out_file=None) \n",
    "graph = graphviz.Source(dot_data) \n",
    "graph.render(\"df_hawks1\")\n",
    "dot_data = tree.export_graphviz(tree_model, out_file=None, \n",
    "                      feature_names=['Wing', 'Weight', 'Culmen', 'Hallux'],  \n",
    "                      class_names=['Coopers', 'Red tailed', 'Sharp-shinned'],\n",
    "                      filled=True, rounded=True,  \n",
    "                      special_characters=True)  \n",
    "graph = graphviz.Source(dot_data)  \n",
    "graph\n",
    "# The Easy to interpret Decision tree. We see the Weight & Hallux are the main features used. \n",
    "# This varies from decision tree in R, as Culmen and Hallux were the main features.\n",
    "# My interpretation is to use Weight, Hallux, and Culmen as the main features and be wary of overfit. "
   ]
  },
  {
   "cell_type": "markdown",
   "metadata": {},
   "source": [
    "## Evaluate the model accuracy and confusion matrix"
   ]
  },
  {
   "cell_type": "code",
   "execution_count": 36,
   "metadata": {},
   "outputs": [],
   "source": [
    "y_pred = tree_model.predict(X_test)"
   ]
  },
  {
   "cell_type": "code",
   "execution_count": 38,
   "metadata": {},
   "outputs": [
    {
     "name": "stdout",
     "output_type": "stream",
     "text": [
      "Accuracy: 1.0\n"
     ]
    }
   ],
   "source": [
    "from sklearn import metrics\n",
    "print(\"Accuracy:\",metrics.accuracy_score(y_test, y_pred))\n",
    "#Accuracy is 100%"
   ]
  },
  {
   "cell_type": "code",
   "execution_count": 43,
   "metadata": {},
   "outputs": [
    {
     "data": {
      "text/plain": [
       "array([[ 7,  0,  0],\n",
       "       [ 0, 58,  0],\n",
       "       [ 0,  0, 26]])"
      ]
     },
     "execution_count": 43,
     "metadata": {},
     "output_type": "execute_result"
    }
   ],
   "source": [
    "from sklearn.metrics import confusion_matrix\n",
    "confusion_matrix(y_test, y_pred)"
   ]
  },
  {
   "cell_type": "markdown",
   "metadata": {},
   "source": [
    "# Comparing Decision tree to AdaBoost model"
   ]
  },
  {
   "cell_type": "code",
   "execution_count": 44,
   "metadata": {},
   "outputs": [],
   "source": [
    "from sklearn.ensemble import AdaBoostClassifier\n",
    "from sklearn.tree import DecisionTreeClassifier\n",
    "\n",
    "tree = DecisionTreeClassifier(criterion='gini',\n",
    "                               random_state=1,\n",
    "                               max_depth=3) \n",
    "ada = AdaBoostClassifier(base_estimator=tree,\n",
    "                         n_estimators=500,\n",
    "                         learning_rate=0.1,\n",
    "                         random_state=1)"
   ]
  },
  {
   "cell_type": "code",
   "execution_count": 45,
   "metadata": {},
   "outputs": [
    {
     "name": "stdout",
     "output_type": "stream",
     "text": [
      "Decision tree train/test accuracies 1.000/1.000\n"
     ]
    }
   ],
   "source": [
    "# this is the performance of a single decision tree stump as seen above by max_depth=1. NO boosting\n",
    "from sklearn.metrics import accuracy_score\n",
    "tree = tree.fit(X_train, y_train)\n",
    "y_train_pred = tree.predict(X_train)\n",
    "y_test_pred = tree.predict(X_test)\n",
    "tree_train = accuracy_score(y_train, y_train_pred)\n",
    "tree_test = accuracy_score(y_test, y_test_pred)\n",
    "print('Decision tree train/test accuracies %.3f/%.3f' % (tree_train, tree_test))\n",
    "# We see perfect training and test performance  "
   ]
  },
  {
   "cell_type": "code",
   "execution_count": 48,
   "metadata": {},
   "outputs": [
    {
     "name": "stdout",
     "output_type": "stream",
     "text": [
      "AdaBoost train/test accuracies 1.000/1.000\n"
     ]
    }
   ],
   "source": [
    "# this is an example of decision tree WITH boosting\n",
    "# difference is tree.fit vs bag.fit\n",
    "from sklearn.metrics import accuracy_score\n",
    "ada = ada.fit(X_train, y_train)\n",
    "y_train_pred = ada.predict(X_train)\n",
    "y_test_pred = ada.predict(X_test)\n",
    "ada_train = accuracy_score(y_train, y_train_pred)\n",
    "ada_test = accuracy_score(y_test, y_test_pred)\n",
    "print('AdaBoost train/test accuracies %.3f/%.3f' % (ada_train, ada_test))\n",
    "# We see perfect training and test performance  "
   ]
  },
  {
   "cell_type": "markdown",
   "metadata": {},
   "source": [
    "### Both the decision tree and AdaBoost model have the same accuracy, therefore we most likely would use the decision tree as it is less computationaly expensive"
   ]
  },
  {
   "cell_type": "markdown",
   "metadata": {},
   "source": [
    "## Bagging"
   ]
  },
  {
   "cell_type": "code",
   "execution_count": 51,
   "metadata": {},
   "outputs": [],
   "source": [
    "#run the bagging with a tree classifier and entropy is evaluator, with 500 boostrapped samples, 1 CPU, and random_state makes the results repeatable\n",
    "from sklearn.ensemble import BaggingClassifier\n",
    "bag = BaggingClassifier(base_estimator=tree,\n",
    "                         n_estimators=500,\n",
    "                         max_samples=1.0,\n",
    "                         max_features=1.0,\n",
    "                         bootstrap=True,\n",
    "                         bootstrap_features=False,\n",
    "                         n_jobs=1,\n",
    "                         random_state=1)\n"
   ]
  },
  {
   "cell_type": "code",
   "execution_count": 53,
   "metadata": {},
   "outputs": [
    {
     "name": "stdout",
     "output_type": "stream",
     "text": [
      "Bagging train/test accuracies 1.000/1.000\n"
     ]
    }
   ],
   "source": [
    "# this is an example of decision tree WITH bagging\n",
    "# difference is tree.fit vs bag.fit\n",
    "from sklearn.metrics import accuracy_score\n",
    "bag = bag.fit(X_train, y_train)\n",
    "y_train_pred = bag.predict(X_train)\n",
    "y_test_pred = bag.predict(X_test)\n",
    "bag_train = accuracy_score(y_train, y_train_pred)\n",
    "bag_test = accuracy_score(y_test, y_test_pred)\n",
    "print('Bagging train/test accuracies %.3f/%.3f' % (bag_train, bag_test))\n",
    "# We see perfect training and test performance again."
   ]
  },
  {
   "cell_type": "code",
   "execution_count": 54,
   "metadata": {},
   "outputs": [
    {
     "data": {
      "text/plain": [
       "RandomForestClassifier(bootstrap=True, class_weight=None, criterion='gini',\n",
       "                       max_depth=None, max_features='auto', max_leaf_nodes=None,\n",
       "                       min_impurity_decrease=0.0, min_impurity_split=None,\n",
       "                       min_samples_leaf=1, min_samples_split=2,\n",
       "                       min_weight_fraction_leaf=0.0, n_estimators=25, n_jobs=2,\n",
       "                       oob_score=False, random_state=1, verbose=0,\n",
       "                       warm_start=False)"
      ]
     },
     "execution_count": 54,
     "metadata": {},
     "output_type": "execute_result"
    }
   ],
   "source": [
    "from sklearn.ensemble import RandomForestClassifier\n",
    "forest = RandomForestClassifier(criterion='gini',\n",
    "                               n_estimators=25,\n",
    "                               random_state=1,\n",
    "                               n_jobs=2)\n",
    "#we ran 25 decision trees, and n_jobs told the computer to use 2 core processors to run the model. Useful for larger data\n",
    "\n",
    "forest.fit(X_train,y_train)"
   ]
  },
  {
   "cell_type": "code",
   "execution_count": 55,
   "metadata": {},
   "outputs": [
    {
     "name": "stdout",
     "output_type": "stream",
     "text": [
      "Forest train/test accuracies 1.000/1.000\n"
     ]
    }
   ],
   "source": [
    "y_train_pred = forest.predict(X_train)\n",
    "y_test_pred = forest.predict(X_test)\n",
    "forest_train = accuracy_score(y_train, y_train_pred)\n",
    "forest_test = accuracy_score(y_test, y_test_pred)\n",
    "print('Forest train/test accuracies %.3f/%.3f' % (forest_train, forest_test))\n",
    "# We see perfect training and test performance again."
   ]
  },
  {
   "cell_type": "markdown",
   "metadata": {},
   "source": [
    "# SVM"
   ]
  },
  {
   "cell_type": "code",
   "execution_count": 64,
   "metadata": {},
   "outputs": [
    {
     "data": {
      "text/plain": [
       "SVC(C=1.0, cache_size=200, class_weight=None, coef0=0.0,\n",
       "    decision_function_shape='ovr', degree=3, gamma='auto_deprecated',\n",
       "    kernel='linear', max_iter=-1, probability=False, random_state=1,\n",
       "    shrinking=True, tol=0.001, verbose=False)"
      ]
     },
     "execution_count": 64,
     "metadata": {},
     "output_type": "execute_result"
    }
   ],
   "source": [
    "from sklearn.svm import SVC\n",
    "svm= SVC(kernel = 'linear', C = 1.0, random_state=1) #C = 1 and random_state is so results are reproducible. Could change gamma(default = 3) but with perfect fit, there's no need to tune more parameters\n",
    "svm.fit(X_train_std, y_train)"
   ]
  },
  {
   "cell_type": "code",
   "execution_count": 66,
   "metadata": {},
   "outputs": [
    {
     "name": "stdout",
     "output_type": "stream",
     "text": [
      "SVM train/test accuracies 1.000/1.000\n"
     ]
    }
   ],
   "source": [
    "y_train_pred = svm.predict(X_train_std)\n",
    "y_test_pred = svm.predict(X_test_std)\n",
    "svm_train = accuracy_score(y_train, y_train_pred)\n",
    "svm_test = accuracy_score(y_test, y_test_pred)\n",
    "print('SVM train/test accuracies %.3f/%.3f' % (svm_train, svm_test))\n",
    "# we see perfect fit again, and this can be seen with both the linear kernel and rbf kernel"
   ]
  },
  {
   "cell_type": "markdown",
   "metadata": {},
   "source": [
    "# get better model evaluation other than accuracy. "
   ]
  }
 ],
 "metadata": {
  "kernelspec": {
   "display_name": "Python 3",
   "language": "python",
   "name": "python3"
  },
  "language_info": {
   "codemirror_mode": {
    "name": "ipython",
    "version": 3
   },
   "file_extension": ".py",
   "mimetype": "text/x-python",
   "name": "python",
   "nbconvert_exporter": "python",
   "pygments_lexer": "ipython3",
   "version": "3.7.4"
  }
 },
 "nbformat": 4,
 "nbformat_minor": 2
}
